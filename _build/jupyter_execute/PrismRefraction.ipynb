{
 "cells": [
  {
   "cell_type": "markdown",
   "metadata": {},
   "source": [
    "## Refraction: prism\n",
    "\n",
    "This code is very similar to our study of <a href=\"https://opticsf2f.github.io/Opticsf2f_CodeBook/LensRefraction.html\">\n",
    "refraction by a lens, LensRefraction.ipynb</a>,\n",
    "except that here instead of a lens there is a prism.\n",
    "\n",
    "In terms of physics, refraction by a prism is simpler because there is only one angle of incidence.\n",
    "\n",
    "In terms of the core of the code, they are the same.\n",
    "\n",
    "If you just want to play with the **interactive figure** scroll to the bottom.\n",
    "\n",
    "The Jupyter Notebook is PrismRefraction.ipynb see\n",
    "\n",
    "https://github.com/opticsf2f/Opticsf2f_CodeBook"
   ]
  },
  {
   "cell_type": "code",
   "execution_count": 1,
   "metadata": {},
   "outputs": [],
   "source": [
    "import matplotlib.pyplot as plt\n",
    "import numpy as np\n",
    "from ifigures import *\n",
    "from ifigures.my_plots import *\n",
    "import time\n",
    "import matplotlib.colors as colors\n",
    "from numpy.fft import fft, ifft, fftshift"
   ]
  },
  {
   "cell_type": "markdown",
   "metadata": {},
   "source": [
    "This cell defines a few functions. We shall use Line for rays and Triangle for a prism."
   ]
  },
  {
   "cell_type": "code",
   "execution_count": 2,
   "metadata": {},
   "outputs": [],
   "source": [
    "def Rectangle(x,y,x0,y0,a,b,rotation):\n",
    "    xa = (x-x0)*np.cos(rotation) + (y-y0)*np.sin(rotation)\n",
    "    ya = (y-y0)*np.cos(rotation) - (x-x0)*np.sin(rotation)\n",
    "    return (xa > (-a/2)) & (xa < (a/2)) & (ya > (-b/2)) & (ya < (b/2))\n",
    "\n",
    "def Line(x,y,x1,y1,x2,y2,a):\n",
    "    x0 = x1\n",
    "    y0 = y1\n",
    "    b = np.sqrt((x1-x2)**2 + (y1-y2)**2) # length of line\n",
    "    rotation = -np.arctan((x2-x1)/(y2-y1))\n",
    "    xa = (x-x0)*np.cos(rotation) + (y-y0)*np.sin(rotation)\n",
    "    ya = (y-y0)*np.cos(rotation) - (x-x0)*np.sin(rotation)\n",
    "    return (xa > (-a/2)) & (xa < (a/2)) & (ya > (0)) & (ya < (b))\n",
    "\n",
    "def GBeam(zb,yb,z0,y0,beamsize,angle):\n",
    "    angle = angle\n",
    "    za = (zb-z0)*np.cos(angle) + (yb-y0)*np.sin(angle)\n",
    "    ya = (yb-y0)*np.cos(angle) - (zb-z0)*np.sin(angle)\n",
    "    zR = np.pi*beamsize**2\n",
    "    q = za-1.j*zR\n",
    "    return (-1.j*zR*np.exp(2*np.pi*1.j*(za+ya*ya/(2*q)))/q) \n",
    "\n",
    "def Ray(zb,yb,z0,y0,beamsize,angle):\n",
    "    angle = angle\n",
    "    za = (zb-z0)*np.cos(angle) + (yb-y0)*np.sin(angle)\n",
    "    ya = (yb-y0)*np.cos(angle) - (zb-z0)*np.sin(angle)\n",
    "    return (np.exp(2*np.pi*1.j*za-(ya/beamsize)**2))\n",
    "\n",
    "def Triangle(x,y,x0,y0,size,angle):\n",
    "    return ((-y-y0 + size/(2*np.cos(angle/2))-np.tan(angle)*(x-x0) > (0)) \n",
    "            &  (-y-y0 + size/(2*np.cos(angle/2))+np.tan(angle)*(x-x0) > (0)) \n",
    "            & (-y-y0 + size/(2*np.cos(angle/2)) < (size*np.cos(angle/2))))\n",
    "\n",
    "def Circle(x,y,x0,y0,r):\n",
    "    xa = x-x0\n",
    "    ya = y-y0\n",
    "    return (xa*xa + ya*ya < (r*r)) "
   ]
  },
  {
   "cell_type": "markdown",
   "metadata": {},
   "source": [
    "Next we define a grid in units of the wavelength. $dy$ and $dz$ are the spatial resolution. \n",
    "$\\lambda/50$ for the values given below."
   ]
  },
  {
   "cell_type": "code",
   "execution_count": 3,
   "metadata": {},
   "outputs": [],
   "source": [
    "zmin = 0 # z is the horizontal axis so like x in cartesian system\n",
    "zmax = 20\n",
    "ymin = -8   # vertical axis coould be x or y, call it y to agree with standard axes\n",
    "ymax = 12\n",
    "dz = 0.02\n",
    "dy = 0.02\n",
    "zoom = 1\n",
    "Z, Y = np.mgrid[zmin/zoom:zmax/zoom:dz/zoom,ymin/zoom:ymax/zoom:dy/zoom]\n",
    "z_pts, y_pts = np.shape(Z)"
   ]
  },
  {
   "cell_type": "markdown",
   "metadata": {},
   "source": [
    "This is the $k$-space grid."
   ]
  },
  {
   "cell_type": "code",
   "execution_count": 4,
   "metadata": {},
   "outputs": [],
   "source": [
    "kymax=1.0*np.pi/dy \n",
    "dky=2*kymax/y_pts\n",
    "ky=np.arange(-kymax,kymax,dky) # fourier axis scaling\n",
    "ky2=ky*ky\n",
    "ky2c=ky2.astype('complex') #Notes on complex types http://www.scipy.org/NegativeSquareRoot\n",
    "k=2.0*np.pi # k=2pi/lambda with lambda_0=1\n",
    "k2=k*k\n",
    "kz=np.sqrt(k2-ky2c)"
   ]
  },
  {
   "cell_type": "markdown",
   "metadata": {},
   "source": [
    "This is the propagation phase the appear in the hedgehog equation."
   ]
  },
  {
   "cell_type": "code",
   "execution_count": 5,
   "metadata": {},
   "outputs": [],
   "source": [
    "ph=1.0j*kz*dz"
   ]
  },
  {
   "cell_type": "markdown",
   "metadata": {},
   "source": [
    "We define triangle that will become our prism"
   ]
  },
  {
   "cell_type": "code",
   "execution_count": 6,
   "metadata": {},
   "outputs": [],
   "source": [
    "PSize = 18\n",
    "PAngle = 60*np.pi/180\n",
    "PCentre = PSize/(2*np.cos(PAngle/2))\n",
    "PWidth = PSize*np.sin(PAngle/2)\n",
    "Prism = Triangle(Z,Y,zmax/2,0,PSize,PAngle)"
   ]
  },
  {
   "cell_type": "markdown",
   "metadata": {},
   "source": [
    "The next cell does a lot. The first few lines initialise the grid, then we add the prism \n",
    "and a gaussian beam in the input plane. The hedgehog equation propagation is on lines 15-18.\n",
    "Next we add the result, either the electric field or the intensity into the RGB channels, lines 19-23.\n",
    "\n",
    "The rest of the code is to add rays. "
   ]
  },
  {
   "cell_type": "code",
   "execution_count": 7,
   "metadata": {},
   "outputs": [],
   "source": [
    "def PrismFig(Index,Rays,E_or_I):\n",
    "    R = np.zeros((z_pts,y_pts))\n",
    "    G = np.zeros((z_pts,y_pts))\n",
    "    B = np.zeros((z_pts,y_pts))\n",
    "\n",
    "    NR = np.zeros((z_pts,y_pts))# refractive index\n",
    "    NR += (Index-1)*Prism # n-1 red 0.45\n",
    "\n",
    "    BeamSize = 3\n",
    "    BAngle = 20*np.pi/180\n",
    "    BeamOffset = 0\n",
    "\n",
    "    E0 = GBeam(Z[0,:],Y[0,:],0,BeamOffset,BeamSize,BAngle)\n",
    "\n",
    "    b = fftshift(fft(E0))\n",
    "    for jj in range (0,z_pts): # propagat\n",
    "            c = ifft(fftshift(b)) * np.exp(2.0j*np.pi*NR[jj,:]*dz)\n",
    "            b = fftshift(fft(c)) * np.exp(1.0j*kz*dz)\n",
    "            if (E_or_I == \"Field\"):\n",
    "                R[jj,:] +=  0.4*c.real\n",
    "                B[jj,:] -=  0.4*c.real\n",
    "            if (E_or_I == \"Intensity\"):\n",
    "                G[jj,:] +=  0.2*(abs(c)*abs(c))**0.5\n",
    "\n",
    "    fig, (ax1) = plt.subplots(1,1,figsize=(8, 8),dpi=60)\n",
    "\n",
    "    if (Rays == \"Rays\"):\n",
    "        for RayDisp in range (-3,4,1):\n",
    "            BeamOff = 0\n",
    "            ZR1 = 0\n",
    "            YR1 = BeamOffset + RayDisp\n",
    "            ZR2 = ( - PCentre + YR1 + zmax/2*np.tan(PAngle) - ZR1*np.tan(BAngle))/(np.tan(PAngle)-np.tan(BAngle))\n",
    "            YR2 = YR1 + (ZR2 - ZR1) * np.tan(BAngle) # eqn or incomping ray\n",
    "            Theta_i = np.pi/2 - PAngle + BAngle\n",
    "            Theta_t = np.arcsin(1/Index*np.sin(Theta_i))\n",
    "            BAngle2 =  - (np.pi/2 - PAngle) + Theta_t  \n",
    "            ZR3 = ( - PCentre + YR2 + zmax/2*np.tan(-PAngle) - ZR2*np.tan(BAngle2))/(np.tan(-PAngle)-np.tan(BAngle2))\n",
    "            YR3 = YR2 + (ZR3 - ZR2) * np.tan(BAngle2) # eqn or incomping ray\n",
    "            Theta_i = np.pi/2 + PAngle + BAngle2\n",
    "            Theta_t = np.arcsin(Index*np.sin(Theta_i))\n",
    "            BAngle3 =  - (np.pi/2 - PAngle) + Theta_t\n",
    "            ZR4 = zmax\n",
    "            YR4 = YR3 - (ZR4 - ZR3) * np.tan(BAngle3) # eqn or incomping ray\n",
    "            RayBefore = (-Y + PCentre + np.tan(PAngle)*(Z-zmax/2) < (0)) \n",
    "            RayInside = ((-Y + PCentre + np.tan(PAngle)*(Z-zmax/2) > (0)) \n",
    "                         & (-Y + PCentre - np.tan(PAngle)*(Z-zmax/2) > (0)))\n",
    "            RayAfter = (-Y + PCentre - np.tan(PAngle)*(Z-zmax/2) < (0))\n",
    "\n",
    "            R1 = Ray(Z,Y,ZR1,YR1,0.05,BAngle) * RayBefore\n",
    "            Intensity = R1.real * R1.real + R1.imag * R1.imag\n",
    "            R += Intensity\n",
    "            G += Intensity\n",
    "            B += Intensity\n",
    "            R2 = Ray(Z,Y,ZR2,YR2,0.05,BAngle2) * RayInside\n",
    "            Intensity = R2.real * R2.real + R2.imag * R2.imag\n",
    "            R += Intensity\n",
    "            G += Intensity\n",
    "            B += Intensity\n",
    "            R3 = Ray(Z,Y,ZR3,YR3,0.05,-BAngle3) * RayAfter\n",
    "            Intensity = R3.real * R3.real + R3.imag * R3.imag\n",
    "            R += Intensity\n",
    "            G += Intensity\n",
    "            B += Intensity\n",
    "\n",
    "    R+=0.25*(Index-1)*Prism # add prism to final image\n",
    "    G+=0.25*(Index-1)*Prism\n",
    "    B+=0.25*(Index-1)*Prism\n",
    "\n",
    "    br=1.0 \n",
    "    bg=1.0 \n",
    "    bb=1.0 \n",
    "\n",
    "    R=np.clip(br*R,0.0,1.0)\n",
    "    G=np.clip(bg*G,0.0,1.0)\n",
    "    B=np.clip(bb*B,0.0,1.0)\n",
    "    RGB=np.dstack((np.flipud(R.T), np.flipud(G.T), np.flipud(B.T))) # use transpose to swap image axes, flipud to origin at bottom left\n",
    "\n",
    "    ax1.imshow(RGB)\n",
    "    ax1.set_axis_off()\n",
    "    return fig, \"\"\n",
    "\n",
    "# optional subplot to check whether we have done axis scaling correctly\n",
    "#ax2.pcolormesh(Z,Y,B+G)"
   ]
  },
  {
   "cell_type": "markdown",
   "metadata": {},
   "source": [
    "Finally, we make an interactive figure. For the parameters given this takes about 30s on a reasonable laptop.\n",
    "If you only want a single figure, copy the code in PrismFig and define the parameters manually, \n",
    "e.g. Index = 1.5, Rays = \"Rays\", E_or_I = \"Field\" at the top.\n"
   ]
  },
  {
   "cell_type": "code",
   "execution_count": 8,
   "metadata": {},
   "outputs": [
    {
     "ename": "KeyboardInterrupt",
     "evalue": "",
     "output_type": "error",
     "traceback": [
      "\u001b[0;31m---------------------------------------------------------------------------\u001b[0m",
      "\u001b[0;31mKeyboardInterrupt\u001b[0m                         Traceback (most recent call last)",
      "Cell \u001b[0;32mIn [8], line 8\u001b[0m\n\u001b[1;32m      1\u001b[0m start_time \u001b[38;5;241m=\u001b[39m time\u001b[38;5;241m.\u001b[39mtime()\n\u001b[1;32m      3\u001b[0m figure_example1 \u001b[38;5;241m=\u001b[39m InteractiveFigure(PrismFig,\n\u001b[1;32m      4\u001b[0m                                     Index \u001b[38;5;241m=\u001b[39m RangeWidget(\u001b[38;5;241m1.0\u001b[39m, \u001b[38;5;241m1.6\u001b[39m, \u001b[38;5;241m0.1\u001b[39m),\n\u001b[1;32m      5\u001b[0m                                     Rays \u001b[38;5;241m=\u001b[39m RadioWidget([\u001b[38;5;124m'\u001b[39m\u001b[38;5;124mNo Rays\u001b[39m\u001b[38;5;124m'\u001b[39m, \u001b[38;5;124m'\u001b[39m\u001b[38;5;124mRays\u001b[39m\u001b[38;5;124m'\u001b[39m]),\n\u001b[1;32m      6\u001b[0m                                     E_or_I \u001b[38;5;241m=\u001b[39m RadioWidget([\u001b[38;5;124m'\u001b[39m\u001b[38;5;124mIntensity\u001b[39m\u001b[38;5;124m'\u001b[39m, \u001b[38;5;124m'\u001b[39m\u001b[38;5;124mField\u001b[39m\u001b[38;5;124m'\u001b[39m]),\n\u001b[1;32m      7\u001b[0m )\n\u001b[0;32m----> 8\u001b[0m \u001b[43mfigure_example1\u001b[49m\u001b[38;5;241;43m.\u001b[39;49m\u001b[43msaveStandaloneHTML\u001b[49m\u001b[43m(\u001b[49m\u001b[38;5;124;43m\"\u001b[39;49m\u001b[38;5;124;43mPrismInteractive.html\u001b[39;49m\u001b[38;5;124;43m\"\u001b[39;49m\u001b[43m)\u001b[49m\n\u001b[1;32m     10\u001b[0m \u001b[38;5;28mprint\u001b[39m(\u001b[38;5;124m\"\u001b[39m\u001b[38;5;124m--- \u001b[39m\u001b[38;5;132;01m%s\u001b[39;00m\u001b[38;5;124m seconds ---\u001b[39m\u001b[38;5;124m\"\u001b[39m \u001b[38;5;241m%\u001b[39m (time\u001b[38;5;241m.\u001b[39mtime() \u001b[38;5;241m-\u001b[39m start_time))\n\u001b[1;32m     11\u001b[0m figure_example1\u001b[38;5;241m.\u001b[39mshow()\n",
      "File \u001b[0;32m~/Opticsf2fCodeBook/ifigures/interact.py:433\u001b[0m, in \u001b[0;36mInteractiveFigure.saveStandaloneHTML\u001b[0;34m(self, fileName)\u001b[0m\n\u001b[1;32m    431\u001b[0m \u001b[38;5;28mself\u001b[39m\u001b[38;5;241m.\u001b[39mfileName \u001b[38;5;241m=\u001b[39m fileName\n\u001b[1;32m    432\u001b[0m file \u001b[38;5;241m=\u001b[39m \u001b[38;5;28mopen\u001b[39m(fileName, \u001b[38;5;124m\"\u001b[39m\u001b[38;5;124mw\u001b[39m\u001b[38;5;124m\"\u001b[39m)\n\u001b[0;32m--> 433\u001b[0m file\u001b[38;5;241m.\u001b[39mwrite(\u001b[38;5;28;43mself\u001b[39;49m\u001b[38;5;241;43m.\u001b[39;49m\u001b[43mhtml\u001b[49m\u001b[43m(\u001b[49m\u001b[43m)\u001b[49m)\n\u001b[1;32m    434\u001b[0m file\u001b[38;5;241m.\u001b[39mclose()\n\u001b[1;32m    435\u001b[0m \u001b[38;5;28mself\u001b[39m\u001b[38;5;241m.\u001b[39moverallCaption \u001b[38;5;241m=\u001b[39m \u001b[38;5;124m\"\u001b[39m\u001b[38;5;124m\"\u001b[39m\n",
      "File \u001b[0;32m~/Opticsf2fCodeBook/ifigures/interact.py:427\u001b[0m, in \u001b[0;36mInteractiveFigure.html\u001b[0;34m(self, beautify)\u001b[0m\n\u001b[1;32m    425\u001b[0m \u001b[38;5;28;01mdef\u001b[39;00m \u001b[38;5;21mhtml\u001b[39m(\u001b[38;5;28mself\u001b[39m, beautify\u001b[38;5;241m=\u001b[39m\u001b[38;5;28;01mTrue\u001b[39;00m):\n\u001b[1;32m    426\u001b[0m     \u001b[38;5;28;01mreturn\u001b[39;00m \u001b[38;5;28mself\u001b[39m\u001b[38;5;241m.\u001b[39mstandalone_template\u001b[38;5;241m.\u001b[39mformat(css\u001b[38;5;241m=\u001b[39m\u001b[38;5;28mself\u001b[39m\u001b[38;5;241m.\u001b[39mcss_style \u001b[38;5;241m+\u001b[39m (\u001b[38;5;28mself\u001b[39m\u001b[38;5;241m.\u001b[39mcss_beatify \u001b[38;5;28;01mif\u001b[39;00m beautify \u001b[38;5;28;01melse\u001b[39;00m \u001b[38;5;124m\"\u001b[39m\u001b[38;5;124m\"\u001b[39m),\n\u001b[0;32m--> 427\u001b[0m                                                outputs\u001b[38;5;241m=\u001b[39m\u001b[38;5;28;43mself\u001b[39;49m\u001b[38;5;241;43m.\u001b[39;49m\u001b[43m_output_html\u001b[49m\u001b[43m(\u001b[49m\u001b[43m)\u001b[49m,\n\u001b[1;32m    428\u001b[0m                                                widgets\u001b[38;5;241m=\u001b[39m\u001b[38;5;28mself\u001b[39m\u001b[38;5;241m.\u001b[39m_widget_html())\n",
      "File \u001b[0;32m~/Opticsf2fCodeBook/ifigures/interact.py:412\u001b[0m, in \u001b[0;36mInteractiveFigure._output_html\u001b[0;34m(self)\u001b[0m\n\u001b[1;32m    410\u001b[0m i \u001b[38;5;241m=\u001b[39m \u001b[38;5;241m0\u001b[39m\n\u001b[1;32m    411\u001b[0m \u001b[38;5;28;01mfor\u001b[39;00m vals \u001b[38;5;129;01min\u001b[39;00m itertools\u001b[38;5;241m.\u001b[39mproduct(\u001b[38;5;241m*\u001b[39mvalues):\n\u001b[0;32m--> 412\u001b[0m     figure \u001b[38;5;241m=\u001b[39m \u001b[38;5;28;43mself\u001b[39;49m\u001b[38;5;241;43m.\u001b[39;49m\u001b[43mfunction\u001b[49m\u001b[43m(\u001b[49m\u001b[38;5;241;43m*\u001b[39;49m\u001b[38;5;241;43m*\u001b[39;49m\u001b[38;5;28;43mdict\u001b[39;49m\u001b[43m(\u001b[49m\u001b[38;5;28;43mzip\u001b[39;49m\u001b[43m(\u001b[49m\u001b[43mnames\u001b[49m\u001b[43m,\u001b[49m\u001b[43m \u001b[49m\u001b[43mvals\u001b[49m\u001b[43m)\u001b[49m\u001b[43m)\u001b[49m\u001b[43m)\u001b[49m\n\u001b[1;32m    413\u001b[0m     r\u001b[38;5;241m.\u001b[39mappend(tmplt\u001b[38;5;241m.\u001b[39mformat(name\u001b[38;5;241m=\u001b[39mdivnames[i],\n\u001b[1;32m    414\u001b[0m                             display\u001b[38;5;241m=\u001b[39m\u001b[38;5;124m\"\u001b[39m\u001b[38;5;124mblock\u001b[39m\u001b[38;5;124m\"\u001b[39m \u001b[38;5;28;01mif\u001b[39;00m display[i] \u001b[38;5;28;01melse\u001b[39;00m \u001b[38;5;124m\"\u001b[39m\u001b[38;5;124mnone\u001b[39m\u001b[38;5;124m\"\u001b[39m,\n\u001b[1;32m    415\u001b[0m                             content\u001b[38;5;241m=\u001b[39m_get_html(figure[\u001b[38;5;241m0\u001b[39m]),\n\u001b[1;32m    416\u001b[0m                             caption\u001b[38;5;241m=\u001b[39mescape(figure[\u001b[38;5;241m1\u001b[39m])))\n\u001b[1;32m    417\u001b[0m     i \u001b[38;5;241m+\u001b[39m\u001b[38;5;241m=\u001b[39m \u001b[38;5;241m1\u001b[39m\n",
      "Cell \u001b[0;32mIn [7], line 49\u001b[0m, in \u001b[0;36mPrismFig\u001b[0;34m(Index, Rays, E_or_I)\u001b[0m\n\u001b[1;32m     45\u001b[0m RayInside \u001b[38;5;241m=\u001b[39m ((\u001b[38;5;241m-\u001b[39mY \u001b[38;5;241m+\u001b[39m PCentre \u001b[38;5;241m+\u001b[39m np\u001b[38;5;241m.\u001b[39mtan(PAngle)\u001b[38;5;241m*\u001b[39m(Z\u001b[38;5;241m-\u001b[39mzmax\u001b[38;5;241m/\u001b[39m\u001b[38;5;241m2\u001b[39m) \u001b[38;5;241m>\u001b[39m (\u001b[38;5;241m0\u001b[39m)) \n\u001b[1;32m     46\u001b[0m              \u001b[38;5;241m&\u001b[39m (\u001b[38;5;241m-\u001b[39mY \u001b[38;5;241m+\u001b[39m PCentre \u001b[38;5;241m-\u001b[39m np\u001b[38;5;241m.\u001b[39mtan(PAngle)\u001b[38;5;241m*\u001b[39m(Z\u001b[38;5;241m-\u001b[39mzmax\u001b[38;5;241m/\u001b[39m\u001b[38;5;241m2\u001b[39m) \u001b[38;5;241m>\u001b[39m (\u001b[38;5;241m0\u001b[39m)))\n\u001b[1;32m     47\u001b[0m RayAfter \u001b[38;5;241m=\u001b[39m (\u001b[38;5;241m-\u001b[39mY \u001b[38;5;241m+\u001b[39m PCentre \u001b[38;5;241m-\u001b[39m np\u001b[38;5;241m.\u001b[39mtan(PAngle)\u001b[38;5;241m*\u001b[39m(Z\u001b[38;5;241m-\u001b[39mzmax\u001b[38;5;241m/\u001b[39m\u001b[38;5;241m2\u001b[39m) \u001b[38;5;241m<\u001b[39m (\u001b[38;5;241m0\u001b[39m))\n\u001b[0;32m---> 49\u001b[0m R1 \u001b[38;5;241m=\u001b[39m \u001b[43mRay\u001b[49m\u001b[43m(\u001b[49m\u001b[43mZ\u001b[49m\u001b[43m,\u001b[49m\u001b[43mY\u001b[49m\u001b[43m,\u001b[49m\u001b[43mZR1\u001b[49m\u001b[43m,\u001b[49m\u001b[43mYR1\u001b[49m\u001b[43m,\u001b[49m\u001b[38;5;241;43m0.05\u001b[39;49m\u001b[43m,\u001b[49m\u001b[43mBAngle\u001b[49m\u001b[43m)\u001b[49m \u001b[38;5;241m*\u001b[39m RayBefore\n\u001b[1;32m     50\u001b[0m Intensity \u001b[38;5;241m=\u001b[39m R1\u001b[38;5;241m.\u001b[39mreal \u001b[38;5;241m*\u001b[39m R1\u001b[38;5;241m.\u001b[39mreal \u001b[38;5;241m+\u001b[39m R1\u001b[38;5;241m.\u001b[39mimag \u001b[38;5;241m*\u001b[39m R1\u001b[38;5;241m.\u001b[39mimag\n\u001b[1;32m     51\u001b[0m R \u001b[38;5;241m+\u001b[39m\u001b[38;5;241m=\u001b[39m Intensity\n",
      "Cell \u001b[0;32mIn [2], line 27\u001b[0m, in \u001b[0;36mRay\u001b[0;34m(zb, yb, z0, y0, beamsize, angle)\u001b[0m\n\u001b[1;32m     25\u001b[0m za \u001b[38;5;241m=\u001b[39m (zb\u001b[38;5;241m-\u001b[39mz0)\u001b[38;5;241m*\u001b[39mnp\u001b[38;5;241m.\u001b[39mcos(angle) \u001b[38;5;241m+\u001b[39m (yb\u001b[38;5;241m-\u001b[39my0)\u001b[38;5;241m*\u001b[39mnp\u001b[38;5;241m.\u001b[39msin(angle)\n\u001b[1;32m     26\u001b[0m ya \u001b[38;5;241m=\u001b[39m (yb\u001b[38;5;241m-\u001b[39my0)\u001b[38;5;241m*\u001b[39mnp\u001b[38;5;241m.\u001b[39mcos(angle) \u001b[38;5;241m-\u001b[39m (zb\u001b[38;5;241m-\u001b[39mz0)\u001b[38;5;241m*\u001b[39mnp\u001b[38;5;241m.\u001b[39msin(angle)\n\u001b[0;32m---> 27\u001b[0m \u001b[38;5;28;01mreturn\u001b[39;00m (\u001b[43mnp\u001b[49m\u001b[38;5;241;43m.\u001b[39;49m\u001b[43mexp\u001b[49m\u001b[43m(\u001b[49m\u001b[38;5;241;43m2\u001b[39;49m\u001b[38;5;241;43m*\u001b[39;49m\u001b[43mnp\u001b[49m\u001b[38;5;241;43m.\u001b[39;49m\u001b[43mpi\u001b[49m\u001b[38;5;241;43m*\u001b[39;49m\u001b[38;5;241;43m1.\u001b[39;49m\u001b[43mj\u001b[49m\u001b[38;5;241;43m*\u001b[39;49m\u001b[43mza\u001b[49m\u001b[38;5;241;43m-\u001b[39;49m\u001b[43m(\u001b[49m\u001b[43mya\u001b[49m\u001b[38;5;241;43m/\u001b[39;49m\u001b[43mbeamsize\u001b[49m\u001b[43m)\u001b[49m\u001b[38;5;241;43m*\u001b[39;49m\u001b[38;5;241;43m*\u001b[39;49m\u001b[38;5;241;43m2\u001b[39;49m\u001b[43m)\u001b[49m)\n",
      "\u001b[0;31mKeyboardInterrupt\u001b[0m: "
     ]
    },
    {
     "data": {
      "image/png": "[encoded data removed]",
      "text/plain": [
       "<Figure size 480x480 with 1 Axes>"
      ]
     },
     "metadata": {
      "filenames": {
       "image/png": "/home/charles/Opticsf2fCodeBook/_build/jupyter_execute/PrismRefraction_15_1.png"
      },
      "needs_background": "light"
     },
     "output_type": "display_data"
    }
   ],
   "source": [
    "start_time = time.time()\n",
    "\n",
    "figure_example1 = InteractiveFigure(PrismFig,\n",
    "                                    Index = RangeWidget(1.0, 1.6, 0.1),\n",
    "                                    Rays = RadioWidget(['No Rays', 'Rays']),\n",
    "                                    E_or_I = RadioWidget(['Intensity', 'Field']),\n",
    ")\n",
    "figure_example1.saveStandaloneHTML(\"PrismInteractive.html\")\n",
    "\n",
    "print(\"--- %s seconds ---\" % (time.time() - start_time))\n",
    "figure_example1.show()"
   ]
  }
 ],
 "metadata": {
  "kernelspec": {
   "display_name": "Python 3 (ipykernel)",
   "language": "python",
   "name": "python3"
  },
  "language_info": {
   "codemirror_mode": {
    "name": "ipython",
    "version": 3
   },
   "file_extension": ".py",
   "mimetype": "text/x-python",
   "name": "python",
   "nbconvert_exporter": "python",
   "pygments_lexer": "ipython3",
   "version": "3.10.6"
  }
 },
 "nbformat": 4,
 "nbformat_minor": 4
}